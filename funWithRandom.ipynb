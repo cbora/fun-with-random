{
 "cells": [
  {
   "cell_type": "code",
   "execution_count": null,
   "metadata": {
    "collapsed": false
   },
   "outputs": [],
   "source": [
    "import requests\n",
    "import time\n",
    "from PIL import Image\n",
    "import numpy as np\n",
    "import wave"
   ]
  },
  {
   "cell_type": "markdown",
   "metadata": {},
   "source": [
    "## Create RGB BITMAP of 128 pixels by 128 pixels"
   ]
  },
  {
   "cell_type": "code",
   "execution_count": null,
   "metadata": {
    "collapsed": true
   },
   "outputs": [],
   "source": [
    "def has_quota():\n",
    "    \"\"\"\n",
    "        Checks for quota\n",
    "        returns True if still has quota else False\n",
    "    \"\"\"\n",
    "    url = \"https://www.random.org/quota/?format=plain\"\n",
    "    response = requests.get(url)\n",
    "    if response.status_code == 200:\n",
    "        return response.content.split() >= 0\n",
    "    return False"
   ]
  },
  {
   "cell_type": "code",
   "execution_count": null,
   "metadata": {
    "collapsed": true
   },
   "outputs": [],
   "source": [
    "def chunk_requests(count, min, max):\n",
    "    \"\"\"\n",
    "        Chunks requests \n",
    "        checks whether the max\n",
    "        returns list of numbers\n",
    "    \"\"\"\n",
    "    # make the url\n",
    "    numbers_url = \"https://www.random.org/integers/?num={}&min={}&max={}&col=3&base=10&format=plain&rnd=new\".format(count, min, max)\n",
    "    # make the requests on the API\n",
    "    if not has_quota():\n",
    "        # if no quota available sleep for ten minutes\n",
    "        time.sleep(60*10)\n",
    "    numbers_response = requests.get(numbers_url, timeout=60*10)\n",
    "    # return the processed list of numbers if successful\n",
    "    if numbers_response.status_code == 200:\n",
    "        return numbers_response.content.split()\n",
    "    print \"Failed request with code: \", numbers_response.status_code\n",
    "    return []"
   ]
  },
  {
   "cell_type": "code",
   "execution_count": null,
   "metadata": {
    "collapsed": true
   },
   "outputs": [],
   "source": [
    "def generate_numbers(count, min, max):\n",
    "    \"\"\"\n",
    "    Generates numbers by calling chunk requests\n",
    "    \"\"\"\n",
    "    max_count = 1000\n",
    "    if count <= max_count:\n",
    "        # if the requested count is less than max\n",
    "        return chunk_requests(count, min, max)\n",
    "    \n",
    "    results = []\n",
    "    while count > 0:\n",
    "        # Now process the count in chunks\n",
    "        if count <= max_count:\n",
    "            # if count is close to max_count\n",
    "            this_count = count\n",
    "            count = -1\n",
    "        else:\n",
    "            # count is far greater than max_count\n",
    "            this_count = max_count\n",
    "            count -= max_count\n",
    "        results = results + chunk_requests(this_count, min, max)\n",
    "    return results"
   ]
  },
  {
   "cell_type": "code",
   "execution_count": null,
   "metadata": {
    "collapsed": false
   },
   "outputs": [],
   "source": [
    "# generate n pixels = 128 by 128\n",
    "# RGB has 3 values so we multiply by 3\n",
    "n_pixels = 128*128*3\n",
    "# generate numbers using the API\n",
    "min = 0\n",
    "max = 255\n",
    "numbers = generate_numbers(n_pixels, min, max)"
   ]
  },
  {
   "cell_type": "code",
   "execution_count": null,
   "metadata": {
    "collapsed": false
   },
   "outputs": [],
   "source": [
    "WIDTH=128\n",
    "HEIGHT=128\n",
    "img = Image.new(WIDTH, HEIGHT, 'RGB')"
   ]
  },
  {
   "cell_type": "code",
   "execution_count": null,
   "metadata": {
    "collapsed": false
   },
   "outputs": [],
   "source": [
    "# convert to numpy array\n",
    "np_arr = np.asarray(numbers).reshape((128, 128, 3))"
   ]
  },
  {
   "cell_type": "code",
   "execution_count": null,
   "metadata": {
    "collapsed": false
   },
   "outputs": [],
   "source": [
    "im = Image.fromarray(np_arr.astype('uint8')).convert('RGBA')"
   ]
  },
  {
   "cell_type": "code",
   "execution_count": null,
   "metadata": {
    "collapsed": true
   },
   "outputs": [],
   "source": [
    "im.show()"
   ]
  },
  {
   "cell_type": "markdown",
   "metadata": {},
   "source": [
    "## A white noise WAV sound sample of 3 second"
   ]
  },
  {
   "cell_type": "code",
   "execution_count": null,
   "metadata": {
    "collapsed": true
   },
   "outputs": [],
   "source": [
    "# Generate a 16-bit PCM audio in the range of -32767, 32767\n",
    "noise_min = -32767\n",
    "noise_max = 32767\n",
    "noise_count = 44100*3 # for 3 seconds"
   ]
  },
  {
   "cell_type": "code",
   "execution_count": null,
   "metadata": {
    "collapsed": false
   },
   "outputs": [],
   "source": [
    "# Get the random numbers\n",
    "noise = generate_numbers(noise_count, min, max)\n",
    "noise = map(int, noise) # convert to integers"
   ]
  },
  {
   "cell_type": "code",
   "execution_count": null,
   "metadata": {
    "collapsed": true
   },
   "outputs": [],
   "source": [
    "# Generate white noise using python libraries\n",
    "# reference to https://soledadpenades.com/2009/10/29/fastest-way-to-generate-wav-files-in-python-using-the-wave-module/\n",
    "noise_output = wave.open('noise.wav', 'w')\n",
    "noise_output.setparams((2, 2, 44100, 0, 'NONE', 'not compressed'))\n",
    "for i in range(0, noise_count):\n",
    "        value = noise[i]\n",
    "        packed_value = struct.pack('h', value)\n",
    "        noise_output.writeframes(packed_value)\n",
    "        noise_output.writeframes(packed_value)\n",
    "\n",
    "noise_output.close()"
   ]
  },
  {
   "cell_type": "markdown",
   "metadata": {},
   "source": [
    "## RSA Key pair"
   ]
  },
  {
   "cell_type": "code",
   "execution_count": null,
   "metadata": {
    "collapsed": true
   },
   "outputs": [],
   "source": []
  }
 ],
 "metadata": {
  "anaconda-cloud": {},
  "kernelspec": {
   "display_name": "Python [default]",
   "language": "python",
   "name": "python2"
  },
  "language_info": {
   "codemirror_mode": {
    "name": "ipython",
    "version": 2
   },
   "file_extension": ".py",
   "mimetype": "text/x-python",
   "name": "python",
   "nbconvert_exporter": "python",
   "pygments_lexer": "ipython2",
   "version": "2.7.12"
  }
 },
 "nbformat": 4,
 "nbformat_minor": 1
}
